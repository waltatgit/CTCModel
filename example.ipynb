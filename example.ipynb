{
  "nbformat": 4,
  "nbformat_minor": 0,
  "metadata": {
    "colab": {
      "name": "example.ipynb",
      "provenance": [],
      "collapsed_sections": [],
      "authorship_tag": "ABX9TyPoKn6fgsUjpWGhUjZbcmY6",
      "include_colab_link": true
    },
    "kernelspec": {
      "name": "python3",
      "display_name": "Python 3"
    },
    "accelerator": "GPU"
  },
  "cells": [
    {
      "cell_type": "markdown",
      "metadata": {
        "id": "view-in-github",
        "colab_type": "text"
      },
      "source": [
        "<a href=\"https://colab.research.google.com/github/waltatgit/CTCModel/blob/master/example.ipynb\" target=\"_parent\"><img src=\"https://colab.research.google.com/assets/colab-badge.svg\" alt=\"Open In Colab\"/></a>"
      ]
    },
    {
      "cell_type": "code",
      "metadata": {
        "id": "OaDktcqLQA4M",
        "colab_type": "code",
        "colab": {
          "base_uri": "https://localhost:8080/",
          "height": 34
        },
        "outputId": "e8c3a1d3-ee53-4c0a-abf2-88ca1e19047f"
      },
      "source": [
        "%tensorflow_version 1.x"
      ],
      "execution_count": 3,
      "outputs": [
        {
          "output_type": "stream",
          "text": [
            "TensorFlow 1.x selected.\n"
          ],
          "name": "stdout"
        }
      ]
    },
    {
      "cell_type": "code",
      "metadata": {
        "id": "yKEklgPEKNDv",
        "colab_type": "code",
        "colab": {
          "base_uri": "https://localhost:8080/",
          "height": 34
        },
        "outputId": "bb2955b4-6589-498f-a1c6-9bd5b8cdf3c3"
      },
      "source": [
        "from google.colab import drive\n",
        "ROOT = '/content/drive'\n",
        "drive.mount(ROOT)"
      ],
      "execution_count": 4,
      "outputs": [
        {
          "output_type": "stream",
          "text": [
            "Drive already mounted at /content/drive; to attempt to forcibly remount, call drive.mount(\"/content/drive\", force_remount=True).\n"
          ],
          "name": "stdout"
        }
      ]
    },
    {
      "cell_type": "code",
      "metadata": {
        "id": "2ORXYOTcKWh1",
        "colab_type": "code",
        "colab": {
          "base_uri": "https://localhost:8080/",
          "height": 34
        },
        "outputId": "cabb277e-da6e-4f68-e455-b0f6f03e5591"
      },
      "source": [
        "%cd '/content/drive/My Drive/Colab Notebooks/CTCModel'"
      ],
      "execution_count": 5,
      "outputs": [
        {
          "output_type": "stream",
          "text": [
            "/content/drive/My Drive/Colab Notebooks/CTCModel\n"
          ],
          "name": "stdout"
        }
      ]
    },
    {
      "cell_type": "code",
      "metadata": {
        "id": "cXYE3K56L-Xm",
        "colab_type": "code",
        "colab": {
          "base_uri": "https://localhost:8080/",
          "height": 51
        },
        "outputId": "df3ea7c3-a135-4741-917c-b2a4d9b10681"
      },
      "source": [
        "!tar xvf ./seqDigits.pkl.tar.gz"
      ],
      "execution_count": 15,
      "outputs": [
        {
          "output_type": "stream",
          "text": [
            "tar: /tmp/seqDigits.pk: Not found in archive\n",
            "tar: Exiting with failure status due to previous errors\n"
          ],
          "name": "stdout"
        }
      ]
    },
    {
      "cell_type": "code",
      "metadata": {
        "id": "A1oy1FOgPN_K",
        "colab_type": "code",
        "colab": {}
      },
      "source": [
        "import sys\n",
        "sys.path.append('/content/drive/My Drive/Colab Notebooks/CTCModel')"
      ],
      "execution_count": 7,
      "outputs": []
    },
    {
      "cell_type": "code",
      "metadata": {
        "id": "RuPKqFDSMdUZ",
        "colab_type": "code",
        "colab": {}
      },
      "source": [
        "from keras.layers import TimeDistributed, Activation, Dense, Input, Bidirectional, LSTM, Masking, GaussianNoise\n",
        "from CTCModel import CTCModel\n",
        "import pickle\n",
        "from keras.preprocessing import sequence\n",
        "import numpy as np"
      ],
      "execution_count": 28,
      "outputs": []
    },
    {
      "cell_type": "code",
      "metadata": {
        "id": "t1zQ4LvTPpLz",
        "colab_type": "code",
        "colab": {}
      },
      "source": [
        "def create_network(nb_features, nb_labels, padding_value):\n",
        "\n",
        "    # Define the network architecture\n",
        "    input_data = Input(name='input', shape=(None, nb_features)) # nb_features = image height\n",
        "\n",
        "    masking = Masking(mask_value=padding_value)(input_data)\n",
        "    noise = GaussianNoise(0.01)(masking)\n",
        "    blstm = Bidirectional(LSTM(128, return_sequences=True, dropout=0.1))(noise)\n",
        "    blstm = Bidirectional(LSTM(128, return_sequences=True, dropout=0.1))(blstm)\n",
        "    blstm = Bidirectional(LSTM(128, return_sequences=True, dropout=0.1))(blstm)\n",
        "\n",
        "    dense = TimeDistributed(Dense(nb_labels + 1, name=\"dense\"))(blstm)\n",
        "    outrnn = Activation('softmax', name='softmax')(dense)\n",
        "\n",
        "    network = CTCModel([input_data], [outrnn])\n",
        "    network.compile(Adam(lr=0.0001))\n",
        "\n",
        "    return network"
      ],
      "execution_count": 9,
      "outputs": []
    },
    {
      "cell_type": "code",
      "metadata": {
        "id": "LnosalYsJRg2",
        "colab_type": "code",
        "colab": {}
      },
      "source": [
        "    (x_train, y_train), (x_test, y_test) = pickle.load(open('./seqDigits.pkl', 'rb'))\n"
      ],
      "execution_count": 10,
      "outputs": []
    },
    {
      "cell_type": "code",
      "metadata": {
        "id": "ekuTX-B_J9Lu",
        "colab_type": "code",
        "colab": {}
      },
      "source": [
        "    nb_labels = 10 # number of labels (10, this is digits)\n",
        "    batch_size = 32 # size of the batch that are considered\n",
        "    padding_value = 255 # value for padding input observations\n",
        "    nb_epochs = 10 # number of training epochs\n",
        "    nb_train = len(x_train)\n",
        "    nb_test = len(x_test)\n",
        "    nb_features = len(x_train[0][0])"
      ],
      "execution_count": 11,
      "outputs": []
    },
    {
      "cell_type": "code",
      "metadata": {
        "id": "ofnfEEDBPygd",
        "colab_type": "code",
        "colab": {}
      },
      "source": [
        "    # create list of input lengths\n",
        "    x_train_len = np.asarray([len(x_train[i]) for i in range(nb_train)])\n",
        "    x_test_len = np.asarray([len(x_test[i]) for i in range(nb_test)])\n",
        "    y_train_len = np.asarray([len(y_train[i]) for i in range(nb_train)])\n",
        "    y_test_len = np.asarray([len(y_test[i]) for i in range(nb_test)])\n",
        "\n",
        "    # pad inputs\n",
        "    x_train_pad = sequence.pad_sequences(x_train, value=float(padding_value), dtype='float32',\n",
        "                                         padding=\"post\", truncating='post')\n",
        "    x_test_pad = sequence.pad_sequences(x_test, value=float(padding_value), dtype='float32',\n",
        "                                        padding=\"post\", truncating='post')\n",
        "    y_train_pad = sequence.pad_sequences(y_train, value=float(nb_labels),\n",
        "                                         dtype='float32', padding=\"post\")\n",
        "    y_test_pad = sequence.pad_sequences(y_test, value=float(nb_labels),\n",
        "                                        dtype='float32', padding=\"post\")"
      ],
      "execution_count": 12,
      "outputs": []
    },
    {
      "cell_type": "code",
      "metadata": {
        "id": "OzWGI5DakIAX",
        "colab_type": "code",
        "colab": {}
      },
      "source": [
        ""
      ],
      "execution_count": null,
      "outputs": []
    },
    {
      "cell_type": "code",
      "metadata": {
        "id": "OK0MCUPPP0qm",
        "colab_type": "code",
        "colab": {}
      },
      "source": [
        "    # define a recurrent network using CTCModel\n",
        "    network = create_network(nb_features, nb_labels, padding_value)"
      ],
      "execution_count": 30,
      "outputs": []
    },
    {
      "cell_type": "code",
      "metadata": {
        "id": "2ayxBUcbP2qe",
        "colab_type": "code",
        "colab": {
          "base_uri": "https://localhost:8080/",
          "height": 408
        },
        "outputId": "94d8111d-c197-4d93-de99-6af452e10c16"
      },
      "source": [
        " # CTC training\n",
        "network.fit(x=[x_train_pad, y_train_pad, x_train_len, y_train_len], y=np.zeros(nb_train), \\\n",
        "                batch_size=batch_size, epochs=nb_epochs)\n"
      ],
      "execution_count": 14,
      "outputs": [
        {
          "output_type": "stream",
          "text": [
            "WARNING:tensorflow:From /tensorflow-1.15.2/python3.6/keras/backend/tensorflow_backend.py:422: The name tf.global_variables is deprecated. Please use tf.compat.v1.global_variables instead.\n",
            "\n",
            "Epoch 1/10\n",
            "10000/10000 [==============================] - 365s 36ms/step - loss: 16.1104\n",
            "Epoch 2/10\n",
            "10000/10000 [==============================] - 360s 36ms/step - loss: 8.1164\n",
            "Epoch 3/10\n",
            "10000/10000 [==============================] - 365s 37ms/step - loss: 7.2863\n",
            "Epoch 4/10\n",
            "10000/10000 [==============================] - 361s 36ms/step - loss: 6.1459\n",
            "Epoch 5/10\n",
            "10000/10000 [==============================] - 357s 36ms/step - loss: 4.9325\n",
            "Epoch 6/10\n",
            "10000/10000 [==============================] - 358s 36ms/step - loss: 3.4907\n",
            "Epoch 7/10\n",
            "10000/10000 [==============================] - 353s 35ms/step - loss: 2.0569\n",
            "Epoch 8/10\n",
            "10000/10000 [==============================] - 354s 35ms/step - loss: 1.4629\n",
            "Epoch 9/10\n",
            "10000/10000 [==============================] - 355s 35ms/step - loss: 1.1664\n",
            "Epoch 10/10\n",
            "10000/10000 [==============================] - 358s 36ms/step - loss: 0.9749\n"
          ],
          "name": "stdout"
        },
        {
          "output_type": "execute_result",
          "data": {
            "text/plain": [
              "<keras.callbacks.callbacks.History at 0x7fabad2f3a90>"
            ]
          },
          "metadata": {
            "tags": []
          },
          "execution_count": 14
        }
      ]
    },
    {
      "cell_type": "code",
      "metadata": {
        "id": "vdrChT4bRja7",
        "colab_type": "code",
        "colab": {
          "base_uri": "https://localhost:8080/",
          "height": 34
        },
        "outputId": "4df83737-cd37-4930-c5a9-b4a2b9a22c33"
      },
      "source": [
        "# Evaluation: loss, label error rate and sequence error rate are requested\n",
        "eval = network.evaluate(x=[x_test_pad, y_test_pad, x_test_len, y_test_len],\\\n",
        "                            batch_size=batch_size, metrics=['loss', 'ler', 'ser'])"
      ],
      "execution_count": 18,
      "outputs": [
        {
          "output_type": "stream",
          "text": [
            "2000/2000 [==============================] - 23s 11ms/step\n"
          ],
          "name": "stdout"
        }
      ]
    },
    {
      "cell_type": "code",
      "metadata": {
        "id": "V80ky-AWe3ZA",
        "colab_type": "code",
        "colab": {
          "base_uri": "https://localhost:8080/",
          "height": 187
        },
        "outputId": "347b4bc2-82c6-4d79-c140-1c11f82775f0"
      },
      "source": [
        "# predict label sequences\n",
        "pred = network.predict([x_test_pad, x_test_len], batch_size=batch_size, max_value=padding_value)\n",
        "for i in range(10):  # print the 10 first predictions\n",
        "  print(\"Prediction :\", [j for j in pred[i] if j!=-1], \" -- Label : \", y_test[i]) # "
      ],
      "execution_count": 19,
      "outputs": [
        {
          "output_type": "stream",
          "text": [
            "Prediction : [3.0, 3.0, 1.0, 4.0]  -- Label :  [3. 3. 1. 4.]\n",
            "Prediction : [1.0, 1.0]  -- Label :  [1. 1.]\n",
            "Prediction : [0.0, 7.0, 2.0]  -- Label :  [0. 7. 2.]\n",
            "Prediction : [6.0, 4.0]  -- Label :  [6. 4.]\n",
            "Prediction : [5.0, 8.0]  -- Label :  [5. 8.]\n",
            "Prediction : [0.0, 6.0, 9.0]  -- Label :  [0. 6. 9.]\n",
            "Prediction : [6.0, 8.0, 6.0, 6.0]  -- Label :  [6. 8. 6. 6.]\n",
            "Prediction : [4.0, 1.0]  -- Label :  [4. 1.]\n",
            "Prediction : [8.0, 4.0]  -- Label :  [8. 4.]\n",
            "Prediction : [2.0, 3.0, 3.0, 1.0]  -- Label :  [2. 3. 3. 1.]\n"
          ],
          "name": "stdout"
        }
      ]
    },
    {
      "cell_type": "code",
      "metadata": {
        "id": "r1tuHoSsfARc",
        "colab_type": "code",
        "colab": {}
      },
      "source": [
        ""
      ],
      "execution_count": null,
      "outputs": []
    }
  ]
}