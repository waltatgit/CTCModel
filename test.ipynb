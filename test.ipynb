{
  "nbformat": 4,
  "nbformat_minor": 0,
  "metadata": {
    "colab": {
      "name": "test.ipynb",
      "provenance": [],
      "collapsed_sections": [],
      "authorship_tag": "ABX9TyPZL5YmTic7Ir0M4+E6htNq",
      "include_colab_link": true
    },
    "kernelspec": {
      "name": "python3",
      "display_name": "Python 3"
    },
    "accelerator": "GPU"
  },
  "cells": [
    {
      "cell_type": "markdown",
      "metadata": {
        "id": "view-in-github",
        "colab_type": "text"
      },
      "source": [
        "<a href=\"https://colab.research.google.com/github/waltatgit/CTCModel/blob/master/test.ipynb\" target=\"_parent\"><img src=\"https://colab.research.google.com/assets/colab-badge.svg\" alt=\"Open In Colab\"/></a>"
      ]
    },
    {
      "cell_type": "code",
      "metadata": {
        "id": "nOm-lf-NJJkS",
        "colab_type": "code",
        "colab": {}
      },
      "source": [
        "import pickle\n"
      ],
      "execution_count": 2,
      "outputs": []
    },
    {
      "cell_type": "code",
      "metadata": {
        "id": "OaDktcqLQA4M",
        "colab_type": "code",
        "colab": {
          "base_uri": "https://localhost:8080/",
          "height": 34
        },
        "outputId": "e8c3a1d3-ee53-4c0a-abf2-88ca1e19047f"
      },
      "source": [
        "%tensorflow_version 1.x"
      ],
      "execution_count": 3,
      "outputs": [
        {
          "output_type": "stream",
          "text": [
            "TensorFlow 1.x selected.\n"
          ],
          "name": "stdout"
        }
      ]
    },
    {
      "cell_type": "code",
      "metadata": {
        "id": "yKEklgPEKNDv",
        "colab_type": "code",
        "colab": {
          "base_uri": "https://localhost:8080/",
          "height": 54
        },
        "outputId": "bb2955b4-6589-498f-a1c6-9bd5b8cdf3c3"
      },
      "source": [
        "from google.colab import drive\n",
        "ROOT = '/content/drive'\n",
        "drive.mount(ROOT)"
      ],
      "execution_count": 4,
      "outputs": [
        {
          "output_type": "stream",
          "text": [
            "Drive already mounted at /content/drive; to attempt to forcibly remount, call drive.mount(\"/content/drive\", force_remount=True).\n"
          ],
          "name": "stdout"
        }
      ]
    },
    {
      "cell_type": "code",
      "metadata": {
        "id": "2ORXYOTcKWh1",
        "colab_type": "code",
        "colab": {
          "base_uri": "https://localhost:8080/",
          "height": 34
        },
        "outputId": "cabb277e-da6e-4f68-e455-b0f6f03e5591"
      },
      "source": [
        "%cd '/content/drive/My Drive/Colab Notebooks/CTCModel'"
      ],
      "execution_count": 5,
      "outputs": [
        {
          "output_type": "stream",
          "text": [
            "/content/drive/My Drive/Colab Notebooks/CTCModel\n"
          ],
          "name": "stdout"
        }
      ]
    },
    {
      "cell_type": "code",
      "metadata": {
        "id": "cXYE3K56L-Xm",
        "colab_type": "code",
        "colab": {
          "base_uri": "https://localhost:8080/",
          "height": 34
        },
        "outputId": "42666fda-da80-4f2d-83a9-f76c1f7697d9"
      },
      "source": [
        "!tar xvf ./seqDigits.pkl.tar.gz"
      ],
      "execution_count": 6,
      "outputs": [
        {
          "output_type": "stream",
          "text": [
            "seqDigits.pkl\n"
          ],
          "name": "stdout"
        }
      ]
    },
    {
      "cell_type": "code",
      "metadata": {
        "id": "A1oy1FOgPN_K",
        "colab_type": "code",
        "colab": {}
      },
      "source": [
        "import sys\n",
        "sys.path.append('/content/drive/My Drive/Colab Notebooks/CTCModel')"
      ],
      "execution_count": 7,
      "outputs": []
    },
    {
      "cell_type": "code",
      "metadata": {
        "id": "RuPKqFDSMdUZ",
        "colab_type": "code",
        "colab": {
          "base_uri": "https://localhost:8080/",
          "height": 34
        },
        "outputId": "74d3f4f4-5354-478d-ae2c-d1b6b357b516"
      },
      "source": [
        "from keras.layers import TimeDistributed, Activation, Dense, Input, Bidirectional, LSTM, Masking, GaussianNoise\n",
        "from keras.optimizers import Adam\n",
        "from CTCModel import CTCModel\n",
        "import pickle\n",
        "from keras.preprocessing import sequence\n",
        "import numpy as np"
      ],
      "execution_count": 8,
      "outputs": [
        {
          "output_type": "stream",
          "text": [
            "Using TensorFlow backend.\n"
          ],
          "name": "stderr"
        }
      ]
    },
    {
      "cell_type": "code",
      "metadata": {
        "id": "t1zQ4LvTPpLz",
        "colab_type": "code",
        "colab": {}
      },
      "source": [
        "def create_network(nb_features, nb_labels, padding_value):\n",
        "\n",
        "    # Define the network architecture\n",
        "    input_data = Input(name='input', shape=(None, nb_features)) # nb_features = image height\n",
        "\n",
        "    masking = Masking(mask_value=padding_value)(input_data)\n",
        "    noise = GaussianNoise(0.01)(masking)\n",
        "    blstm = Bidirectional(LSTM(128, return_sequences=True, dropout=0.1))(noise)\n",
        "    blstm = Bidirectional(LSTM(128, return_sequences=True, dropout=0.1))(blstm)\n",
        "    blstm = Bidirectional(LSTM(128, return_sequences=True, dropout=0.1))(blstm)\n",
        "\n",
        "    dense = TimeDistributed(Dense(nb_labels + 1, name=\"dense\"))(blstm)\n",
        "    outrnn = Activation('softmax', name='softmax')(dense)\n",
        "\n",
        "    network = CTCModel([input_data], [outrnn])\n",
        "    network.compile(Adam(lr=0.0001))\n",
        "\n",
        "    return network"
      ],
      "execution_count": 9,
      "outputs": []
    },
    {
      "cell_type": "code",
      "metadata": {
        "id": "LnosalYsJRg2",
        "colab_type": "code",
        "colab": {}
      },
      "source": [
        "    (x_train, y_train), (x_test, y_test) = pickle.load(open('./seqDigits.pkl', 'rb'))\n"
      ],
      "execution_count": 10,
      "outputs": []
    },
    {
      "cell_type": "code",
      "metadata": {
        "id": "ekuTX-B_J9Lu",
        "colab_type": "code",
        "colab": {}
      },
      "source": [
        "    nb_labels = 10 # number of labels (10, this is digits)\n",
        "    batch_size = 32 # size of the batch that are considered\n",
        "    padding_value = 255 # value for padding input observations\n",
        "    nb_epochs = 10 # number of training epochs\n",
        "    nb_train = len(x_train)\n",
        "    nb_test = len(x_test)\n",
        "    nb_features = len(x_train[0][0])"
      ],
      "execution_count": 11,
      "outputs": []
    },
    {
      "cell_type": "code",
      "metadata": {
        "id": "ofnfEEDBPygd",
        "colab_type": "code",
        "colab": {}
      },
      "source": [
        "    # create list of input lengths\n",
        "    x_train_len = np.asarray([len(x_train[i]) for i in range(nb_train)])\n",
        "    x_test_len = np.asarray([len(x_test[i]) for i in range(nb_test)])\n",
        "    y_train_len = np.asarray([len(y_train[i]) for i in range(nb_train)])\n",
        "    y_test_len = np.asarray([len(y_test[i]) for i in range(nb_test)])\n",
        "\n",
        "    # pad inputs\n",
        "    x_train_pad = sequence.pad_sequences(x_train, value=float(padding_value), dtype='float32',\n",
        "                                         padding=\"post\", truncating='post')\n",
        "    x_test_pad = sequence.pad_sequences(x_test, value=float(padding_value), dtype='float32',\n",
        "                                        padding=\"post\", truncating='post')\n",
        "    y_train_pad = sequence.pad_sequences(y_train, value=float(nb_labels),\n",
        "                                         dtype='float32', padding=\"post\")\n",
        "    y_test_pad = sequence.pad_sequences(y_test, value=float(nb_labels),\n",
        "                                        dtype='float32', padding=\"post\")"
      ],
      "execution_count": 12,
      "outputs": []
    },
    {
      "cell_type": "code",
      "metadata": {
        "id": "OK0MCUPPP0qm",
        "colab_type": "code",
        "colab": {
          "base_uri": "https://localhost:8080/",
          "height": 224
        },
        "outputId": "2683d92a-67fb-4608-ec9b-4dc3755aaa6f"
      },
      "source": [
        "    # define a recurrent network using CTCModel\n",
        "    network = create_network(nb_features, nb_labels, padding_value)"
      ],
      "execution_count": 13,
      "outputs": [
        {
          "output_type": "stream",
          "text": [
            "WARNING:tensorflow:From /tensorflow-1.15.2/python3.6/tensorflow_core/python/ops/resource_variable_ops.py:1630: calling BaseResourceVariable.__init__ (from tensorflow.python.ops.resource_variable_ops) with constraint is deprecated and will be removed in a future version.\n",
            "Instructions for updating:\n",
            "If using Keras pass *_constraint arguments to layers.\n",
            "WARNING:tensorflow:From /tensorflow-1.15.2/python3.6/tensorflow_core/python/keras/backend.py:3994: where (from tensorflow.python.ops.array_ops) is deprecated and will be removed in a future version.\n",
            "Instructions for updating:\n",
            "Use tf.where in 2.0, which has the same broadcast rule as np.where\n",
            "WARNING:tensorflow:From /content/drive/My Drive/Colab Notebooks/CTCModel/CTCModel.py:876: The name tf.log is deprecated. Please use tf.math.log instead.\n",
            "\n",
            "WARNING:tensorflow:From /content/drive/My Drive/Colab Notebooks/CTCModel/CTCModel.py:877: to_int32 (from tensorflow.python.ops.math_ops) is deprecated and will be removed in a future version.\n",
            "Instructions for updating:\n",
            "Use `tf.cast` instead.\n"
          ],
          "name": "stdout"
        }
      ]
    },
    {
      "cell_type": "code",
      "metadata": {
        "id": "2ayxBUcbP2qe",
        "colab_type": "code",
        "colab": {
          "base_uri": "https://localhost:8080/",
          "height": 105
        },
        "outputId": "94d8111d-c197-4d93-de99-6af452e10c16"
      },
      "source": [
        " # CTC training\n",
        "network.fit(x=[x_train_pad, y_train_pad, x_train_len, y_train_len], y=np.zeros(nb_train), \\\n",
        "                batch_size=batch_size, epochs=nb_epochs)\n"
      ],
      "execution_count": null,
      "outputs": [
        {
          "output_type": "stream",
          "text": [
            "WARNING:tensorflow:From /tensorflow-1.15.2/python3.6/keras/backend/tensorflow_backend.py:422: The name tf.global_variables is deprecated. Please use tf.compat.v1.global_variables instead.\n",
            "\n",
            "Epoch 1/10\n",
            " 7328/10000 [====================>.........] - ETA: 1:37 - loss: 18.9409"
          ],
          "name": "stdout"
        }
      ]
    },
    {
      "cell_type": "code",
      "metadata": {
        "id": "vdrChT4bRja7",
        "colab_type": "code",
        "colab": {}
      },
      "source": [
        ""
      ],
      "execution_count": null,
      "outputs": []
    }
  ]
}